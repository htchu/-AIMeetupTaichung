{
 "cells": [
  {
   "cell_type": "markdown",
   "metadata": {},
   "source": [
    "# Learn AIY (2)\n",
    "https://github.com/google/aiyprojects-raspbian/blob/aiyprojects/src/aiy/assistant/auth_helpers.py"
   ]
  },
  {
   "cell_type": "code",
   "execution_count": null,
   "metadata": {},
   "outputs": [],
   "source": [
    "_ASSISTANT_OAUTH_SCOPE = (\n",
    "    'https://www.googleapis.com/auth/assistant-sdk-prototype'\n",
    ")\n",
    "\n",
    "# Expected location of the Assistant credentials file:\n",
    "_ASSISTANT_CREDENTIALS_FILE = os.path.expanduser('~/assistant.json')\n",
    "\n",
    "\n",
    "def _load_credentials(credentials_path):\n",
    "    migrate = False\n",
    "    with open(credentials_path, 'r') as f:\n",
    "        credentials_data = json.load(f)\n",
    "        if 'access_token' in credentials_data:\n",
    "            migrate = True\n",
    "            del credentials_data['access_token']\n",
    "            credentials_data['scopes'] = [_ASSISTANT_OAUTH_SCOPE]\n",
    "    if migrate:\n",
    "        with open(credentials_path, 'w') as f:\n",
    "            json.dump(credentials_data, f)\n",
    "    credentials = google.oauth2.credentials.Credentials(token=None,\n",
    "                                                        **credentials_data)\n",
    "    http_request = google.auth.transport.requests.Request()\n",
    "    credentials.refresh(http_request)\n",
    "    return credentials"
   ]
  }
 ],
 "metadata": {
  "kernelspec": {
   "display_name": "Python 3",
   "language": "python",
   "name": "python3"
  },
  "language_info": {
   "codemirror_mode": {
    "name": "ipython",
    "version": 3
   },
   "file_extension": ".py",
   "mimetype": "text/x-python",
   "name": "python",
   "nbconvert_exporter": "python",
   "pygments_lexer": "ipython3",
   "version": "3.6.3"
  }
 },
 "nbformat": 4,
 "nbformat_minor": 2
}

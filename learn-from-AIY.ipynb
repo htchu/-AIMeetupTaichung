{
 "cells": [
  {
   "cell_type": "markdown",
   "metadata": {},
   "source": [
    "# Learn AIY (1)\n",
    "https://github.com/google/aiyprojects-raspbian/blob/aiyprojects/src/examples/voice/assistant_grpc_demo.py"
   ]
  },
  {
   "cell_type": "code",
   "execution_count": null,
   "metadata": {},
   "outputs": [],
   "source": [
    "import aiy.assistant.grpc\n",
    "import aiy.audio\n",
    "import aiy.voicehat\n",
    "\n",
    "def main():\n",
    "    status_ui = aiy.voicehat.get_status_ui()\n",
    "    status_ui.status('starting')\n",
    "    assistant = aiy.assistant.grpc.get_assistant()\n",
    "    button = aiy.voicehat.get_button()\n",
    "    with aiy.audio.get_recorder():\n",
    "        while True:\n",
    "            status_ui.status('ready')\n",
    "            print('Press the button and speak')\n",
    "            button.wait_for_press()\n",
    "            status_ui.status('listening')\n",
    "            print('Listening...')\n",
    "            text, audio = assistant.recognize()\n",
    "            if text:\n",
    "                if text == 'goodbye':\n",
    "                    status_ui.status('stopping')\n",
    "                    print('Bye!')\n",
    "                    break\n",
    "                print('You said \"', text, '\"')\n",
    "            if audio:\n",
    "                aiy.audio.play_audio(audio, assistant.get_volume())"
   ]
  },
  {
   "cell_type": "markdown",
   "metadata": {},
   "source": [
    "## aiy.assistant\n"
   ]
  },
  {
   "cell_type": "code",
   "execution_count": null,
   "metadata": {},
   "outputs": [],
   "source": []
  }
 ],
 "metadata": {
  "kernelspec": {
   "display_name": "Python 3",
   "language": "python",
   "name": "python3"
  },
  "language_info": {
   "codemirror_mode": {
    "name": "ipython",
    "version": 3
   },
   "file_extension": ".py",
   "mimetype": "text/x-python",
   "name": "python",
   "nbconvert_exporter": "python",
   "pygments_lexer": "ipython3",
   "version": "3.6.3"
  }
 },
 "nbformat": 4,
 "nbformat_minor": 2
}
